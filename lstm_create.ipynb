{
 "cells": [
  {
   "cell_type": "code",
   "execution_count": 4,
   "metadata": {},
   "outputs": [
    {
     "data": {
      "text/plain": [
       "[('movie', 0.8439738154411316),\n",
       " ('flick', 0.6341231465339661),\n",
       " ('cinema', 0.6087235808372498),\n",
       " ('picture', 0.5930522084236145),\n",
       " ('masterpiece', 0.5865710973739624),\n",
       " ('completists', 0.5714558959007263),\n",
       " ('overlooked', 0.554018497467041),\n",
       " ('effort', 0.5490061640739441),\n",
       " ('here', 0.5461225509643555),\n",
       " ('genre', 0.5376661419868469)]"
      ]
     },
     "execution_count": 4,
     "metadata": {},
     "output_type": "execute_result"
    }
   ],
   "source": [
    "from w2v import movieFeedbackWord2Vec\n",
    "from sklearn.model_selection import train_test_split\n",
    "\n",
    "w2v_skipgram = movieFeedbackWord2Vec()\n",
    "w2v_skipgram.load(\"vec_models/skipgram_model.bin\")\n",
    "w2v_skipgram.most_similar(\"film\")"
   ]
  },
  {
   "cell_type": "code",
   "execution_count": 5,
   "metadata": {},
   "outputs": [
    {
     "data": {
      "image/png": "[encoded data removed]",
      "text/plain": [
       "<Figure size 800x600 with 1 Axes>"
      ]
     },
     "metadata": {},
     "output_type": "display_data"
    }
   ],
   "source": [
    "import numpy as np\n",
    "import matplotlib.pyplot as plt\n",
    "from sklearn.manifold import TSNE\n",
    "\n",
    "# Chọn các từ bạn muốn vẽ\n",
    "selected_words = [\"film\", \"review\", \"original\", \"relationship\",\n",
    "                  \"modern\", \"movie\", \"show\", \"friendship\",\n",
    "                  \"great\", \"excellent\", \"incredible\", \"cinema\"]\n",
    "\n",
    "# Lấy vector của các từ từ mô hình\n",
    "vectors = np.array([w2v_skipgram.get_vector(word) for word in selected_words])\n",
    "\n",
    "# Giảm chiều dữ liệu về 2 chiều bằng t-SNE\n",
    "tsne = TSNE(n_components=2, perplexity=5 ,random_state=42)\n",
    "vectors_2d = tsne.fit_transform(vectors)\n",
    "\n",
    "# Vẽ biểu đồ\n",
    "plt.figure(figsize=(8, 6))\n",
    "plt.scatter(vectors_2d[:, 0], vectors_2d[:, 1], marker='.', color='b')\n",
    "\n",
    "# Hiển thị tên của các từ\n",
    "for i, word in enumerate(selected_words):\n",
    "    plt.annotate(word, xy=(vectors_2d[i, 0], vectors_2d[i, 1]), fontsize=12)\n",
    "\n",
    "plt.show()"
   ]
  },
  {
   "cell_type": "code",
   "execution_count": 6,
   "metadata": {},
   "outputs": [
    {
     "name": "stdout",
     "output_type": "stream",
     "text": [
      "(10667, 120)\n"
     ]
    },
    {
     "data": {
      "text/plain": [
       "array([[-0.03728084, -0.10921527,  0.06051791, ...,  0.01326829,\n",
       "         0.15513389,  0.07351569],\n",
       "       [-0.09344961, -0.06344727, -0.02836427, ..., -0.03629223,\n",
       "         0.0371445 ,  0.06025255],\n",
       "       [-0.04873816,  0.16916586,  0.01989446, ...,  0.16592872,\n",
       "         0.20066333, -0.08139649],\n",
       "       ...,\n",
       "       [-0.03436405, -0.12919354,  0.01379176, ...,  0.05752142,\n",
       "        -0.10436366,  0.01272653],\n",
       "       [-0.15581058, -0.28898403,  0.05125132, ..., -0.14493383,\n",
       "        -0.13534327,  0.10168457],\n",
       "       [ 0.11801639, -0.0695557 , -0.2835569 , ...,  0.11915883,\n",
       "         0.26406673, -0.327728  ]], dtype=float32)"
      ]
     },
     "execution_count": 6,
     "metadata": {},
     "output_type": "execute_result"
    }
   ],
   "source": [
    "print(w2v_skipgram.get_vectors().shape)\n",
    "w2v_skipgram.get_vectors()"
   ]
  },
  {
   "cell_type": "code",
   "execution_count": 7,
   "metadata": {},
   "outputs": [],
   "source": [
    "import pickle as pkl\n",
    "words = dict()\n",
    "    \n",
    "for word in w2v_skipgram.get_vocab():\n",
    "    words[word] = w2v_skipgram.get_vector(word)\n",
    "    \n",
    "with open(\"sentiment_analysis/words_dict.pkl\", 'wb') as file:\n",
    "    pkl.dump(words, file)"
   ]
  },
  {
   "cell_type": "code",
   "execution_count": 8,
   "metadata": {},
   "outputs": [],
   "source": [
    "# Load Vectorizer\n",
    "with open(\"sentiment_analysis/words_dict.pkl\", \"rb\") as file:\n",
    "    words = pkl.load(file)"
   ]
  },
  {
   "cell_type": "code",
   "execution_count": 9,
   "metadata": {},
   "outputs": [],
   "source": [
    "from nltk.tokenize import word_tokenize\n",
    "from sentiment_analysis.preprocessing import processtext\n",
    "\n",
    "def tokenize_vietnamese_sentence(sentence):\n",
    "    return word_tokenize(processtext(sentence.lower()))\n",
    "\n",
    "def sent2vec(message, word_dict = words):\n",
    "    tokens = tokenize_vietnamese_sentence(message)\n",
    "    vectors = []\n",
    "    \n",
    "    for token in tokens:\n",
    "        if token not in word_dict.keys():\n",
    "            continue\n",
    "        token_vector = word_dict[token]\n",
    "        vectors.append(token_vector)\n",
    "    return np.array(vectors, dtype=float)"
   ]
  },
  {
   "cell_type": "code",
   "execution_count": 10,
   "metadata": {},
   "outputs": [
    {
     "name": "stderr",
     "output_type": "stream",
     "text": [
      "C:\\Users\\thien\\AppData\\Local\\Temp\\ipykernel_11384\\1611810459.py:5: FutureWarning: Downcasting behavior in `replace` is deprecated and will be removed in a future version. To retain the old behavior, explicitly call `result.infer_objects(copy=False)`. To opt-in to the future behavior, set `pd.set_option('future.no_silent_downcasting', True)`\n",
      "  df[\"sentiment\"] = df[\"sentiment\"].replace('negative', 0)\n"
     ]
    }
   ],
   "source": [
    "import pandas as pd\n",
    "df = pd.read_csv(\"sentiment_analysis/IMDB Dataset.csv\")\n",
    "\n",
    "df[\"sentiment\"] = df[\"sentiment\"].replace('positive', 1)\n",
    "df[\"sentiment\"] = df[\"sentiment\"].replace('negative', 0)\n",
    "X_train, X_temp, y_train, y_temp = train_test_split(df[\"review\"], df[\"sentiment\"], test_size=0.3, random_state=42)\n",
    "X_dev, X_test, y_dev, y_test = train_test_split(X_temp, y_temp, test_size=0.66, random_state=42)"
   ]
  },
  {
   "cell_type": "code",
   "execution_count": 11,
   "metadata": {},
   "outputs": [],
   "source": [
    "X_train = X_train.reset_index(drop=True)\n",
    "y_train = y_train.reset_index(drop=True)\n",
    "X_dev = X_dev.reset_index(drop=True)\n",
    "y_dev = y_dev.reset_index(drop=True)\n",
    "X_test = X_test.reset_index(drop=True)\n",
    "y_test = y_test.reset_index(drop=True)"
   ]
  },
  {
   "cell_type": "code",
   "execution_count": 12,
   "metadata": {},
   "outputs": [],
   "source": [
    "def df_to_X_y(X):  \n",
    "    all_word_vector_sequences = []\n",
    "    \n",
    "    for message in X:\n",
    "      message_as_vector_seq = sent2vec(message)\n",
    "      if message_as_vector_seq.shape[0] == 0:\n",
    "        message_as_vector_seq = np.zeros(shape=(1, 120))\n",
    "\n",
    "      all_word_vector_sequences.append(message_as_vector_seq)\n",
    "    \n",
    "    return all_word_vector_sequences"
   ]
  },
  {
   "cell_type": "code",
   "execution_count": 13,
   "metadata": {},
   "outputs": [
    {
     "name": "stderr",
     "output_type": "stream",
     "text": [
      "[nltk_data] Downloading package averaged_perceptron_tagger to\n",
      "[nltk_data]     C:\\Users\\thien\\AppData\\Roaming\\nltk_data...\n",
      "[nltk_data]   Package averaged_perceptron_tagger is already up-to-\n",
      "[nltk_data]       date!\n",
      "[nltk_data] Downloading package wordnet to\n",
      "[nltk_data]     C:\\Users\\thien\\AppData\\Roaming\\nltk_data...\n",
      "[nltk_data]   Package wordnet is already up-to-date!\n",
      "[nltk_data] Downloading package punkt to\n",
      "[nltk_data]     C:\\Users\\thien\\AppData\\Roaming\\nltk_data...\n",
      "[nltk_data]   Package punkt is already up-to-date!\n"
     ]
    },
    {
     "data": {
      "text/plain": [
       "True"
      ]
     },
     "execution_count": 13,
     "metadata": {},
     "output_type": "execute_result"
    }
   ],
   "source": [
    "import nltk\n",
    "nltk.download('averaged_perceptron_tagger')\n",
    "nltk.download('wordnet')\n",
    "nltk.download('punkt')"
   ]
  },
  {
   "cell_type": "code",
   "execution_count": 14,
   "metadata": {},
   "outputs": [],
   "source": [
    "from copy import deepcopy\n",
    "\n",
    "# Create sequences padding for X\n",
    "def pad_sequences(X):\n",
    "  X_copy = deepcopy(X)\n",
    "\n",
    "  for i, x in enumerate(X):\n",
    "    x_seq_len = x.shape[0]\n",
    "    sequence_length_difference = 150 - x_seq_len\n",
    "    if sequence_length_difference > 0:\n",
    "      pad = np.zeros(shape=(sequence_length_difference, 120))\n",
    "      X_copy[i] = np.concatenate([x, pad])\n",
    "    else:\n",
    "      X_copy[i] = x[0:150]\n",
    "  \n",
    "  return np.array(X_copy).astype(float)"
   ]
  },
  {
   "cell_type": "code",
   "execution_count": 15,
   "metadata": {},
   "outputs": [
    {
     "data": {
      "text/plain": [
       "(35000, 150, 120)"
      ]
     },
     "execution_count": 15,
     "metadata": {},
     "output_type": "execute_result"
    }
   ],
   "source": [
    "X_train = df_to_X_y(X_train)\n",
    "X_train = pad_sequences(X_train)\n",
    "\n",
    "X_train.shape"
   ]
  },
  {
   "cell_type": "code",
   "execution_count": 16,
   "metadata": {},
   "outputs": [
    {
     "data": {
      "text/plain": [
       "(5100, 150, 120)"
      ]
     },
     "execution_count": 16,
     "metadata": {},
     "output_type": "execute_result"
    }
   ],
   "source": [
    "X_dev = df_to_X_y(X_dev)\n",
    "X_dev = pad_sequences(X_dev)\n",
    "\n",
    "X_dev.shape"
   ]
  },
  {
   "cell_type": "code",
   "execution_count": 17,
   "metadata": {},
   "outputs": [
    {
     "data": {
      "text/plain": [
       "(9900, 150, 120)"
      ]
     },
     "execution_count": 17,
     "metadata": {},
     "output_type": "execute_result"
    }
   ],
   "source": [
    "X_test = df_to_X_y(X_test)\n",
    "X_test = pad_sequences(X_test)\n",
    "\n",
    "X_test.shape"
   ]
  },
  {
   "cell_type": "code",
   "execution_count": 18,
   "metadata": {},
   "outputs": [],
   "source": [
    "from keras import layers\n",
    "from keras.models import Sequential\n",
    "\n",
    "model = Sequential([])\n",
    "\n",
    "model.add(layers.Input(shape=(150, 120)))\n",
    "model.add(layers.LSTM(128, return_sequences=True))\n",
    "model.add(layers.Dropout(0.4))\n",
    "model.add(layers.LSTM(64, return_sequences=True))\n",
    "model.add(layers.Dropout(0.4))\n",
    "model.add(layers.LSTM(32, return_sequences=True))\n",
    "model.add(layers.Dropout(0.4))\n",
    "model.add(layers.Flatten())\n",
    "model.add(layers.Dense(2, activation='sigmoid'))"
   ]
  },
  {
   "cell_type": "code",
   "execution_count": 19,
   "metadata": {},
   "outputs": [
    {
     "name": "stdout",
     "output_type": "stream",
     "text": [
      "Model: \"sequential_1\"\n",
      "_________________________________________________________________\n",
      " Layer (type)                Output Shape              Param #   \n",
      "=================================================================\n",
      " lstm_3 (LSTM)               (None, 150, 128)          127488    \n",
      "                                                                 \n",
      " dropout_3 (Dropout)         (None, 150, 128)          0         \n",
      "                                                                 \n",
      " lstm_4 (LSTM)               (None, 150, 64)           49408     \n",
      "                                                                 \n",
      " dropout_4 (Dropout)         (None, 150, 64)           0         \n",
      "                                                                 \n",
      " lstm_5 (LSTM)               (None, 150, 32)           12416     \n",
      "                                                                 \n",
      " dropout_5 (Dropout)         (None, 150, 32)           0         \n",
      "                                                                 \n",
      " flatten_1 (Flatten)         (None, 4800)              0         \n",
      "                                                                 \n",
      " dense_1 (Dense)             (None, 2)                 9602      \n",
      "                                                                 \n",
      "=================================================================\n",
      "Total params: 198914 (777.01 KB)\n",
      "Trainable params: 198914 (777.01 KB)\n",
      "Non-trainable params: 0 (0.00 Byte)\n",
      "_________________________________________________________________\n"
     ]
    }
   ],
   "source": [
    "model.summary()"
   ]
  },
  {
   "cell_type": "code",
   "execution_count": 20,
   "metadata": {},
   "outputs": [],
   "source": [
    "from keras.losses import BinaryCrossentropy\n",
    "from keras.optimizers import Adam\n",
    "from keras.metrics import AUC\n",
    "from keras.callbacks import ModelCheckpoint\n",
    "\n",
    "# Import the legacy optimizer\n",
    "from keras.optimizers import legacy\n",
    "\n",
    "cp = ModelCheckpoint('lstm_model/', save_best_only=True)\n",
    "\n",
    "# Use the legacy Adam optimizer\n",
    "optimizer = legacy.Adam(learning_rate=0.01)\n",
    "\n",
    "model.compile(optimizer=optimizer, loss='sparse_categorical_crossentropy', metrics=['accuracy'])"
   ]
  },
  {
   "cell_type": "code",
   "execution_count": 21,
   "metadata": {},
   "outputs": [
    {
     "name": "stderr",
     "output_type": "stream",
     "text": [
      "C:\\Users\\thien\\AppData\\Local\\Temp\\ipykernel_11384\\3918391452.py:1: FutureWarning: pandas.value_counts is deprecated and will be removed in a future version. Use pd.Series(obj).value_counts() instead.\n",
      "  frequencies = pd.value_counts(y_train)\n"
     ]
    },
    {
     "data": {
      "text/plain": [
       "sentiment\n",
       "0    17589\n",
       "1    17411\n",
       "Name: count, dtype: int64"
      ]
     },
     "execution_count": 21,
     "metadata": {},
     "output_type": "execute_result"
    }
   ],
   "source": [
    "frequencies = pd.value_counts(y_train)\n",
    "\n",
    "frequencies"
   ]
  },
  {
   "cell_type": "code",
   "execution_count": 22,
   "metadata": {},
   "outputs": [
    {
     "data": {
      "text/plain": [
       "{0: 1.9898800386605264, 1: 2.010223421974614}"
      ]
     },
     "execution_count": 22,
     "metadata": {},
     "output_type": "execute_result"
    }
   ],
   "source": [
    "weights = {0: frequencies.sum() / frequencies[0], 1: frequencies.sum() / frequencies[1]}\n",
    "weights"
   ]
  },
  {
   "cell_type": "code",
   "execution_count": 23,
   "metadata": {},
   "outputs": [
    {
     "name": "stdout",
     "output_type": "stream",
     "text": [
      "Epoch 1/20\n",
      "WARNING:tensorflow:From C:\\Users\\thien\\AppData\\Roaming\\Python\\Python310\\site-packages\\keras\\src\\utils\\tf_utils.py:492: The name tf.ragged.RaggedTensorValue is deprecated. Please use tf.compat.v1.ragged.RaggedTensorValue instead.\n",
      "\n",
      "WARNING:tensorflow:From C:\\Users\\thien\\AppData\\Roaming\\Python\\Python310\\site-packages\\keras\\src\\engine\\base_layer_utils.py:384: The name tf.executing_eagerly_outside_functions is deprecated. Please use tf.compat.v1.executing_eagerly_outside_functions instead.\n",
      "\n",
      "1094/1094 [==============================] - ETA: 0s - loss: 1.0008 - accuracy: 0.7495INFO:tensorflow:Assets written to: lstm_model\\assets\n"
     ]
    },
    {
     "name": "stderr",
     "output_type": "stream",
     "text": [
      "INFO:tensorflow:Assets written to: lstm_model\\assets\n"
     ]
    },
    {
     "name": "stdout",
     "output_type": "stream",
     "text": [
      "1094/1094 [==============================] - 224s 199ms/step - loss: 1.0008 - accuracy: 0.7495 - val_loss: 0.3151 - val_accuracy: 0.8712\n",
      "Epoch 2/20\n",
      "1094/1094 [==============================] - 231s 211ms/step - loss: 0.6199 - accuracy: 0.8728 - val_loss: 0.3210 - val_accuracy: 0.8686\n",
      "Epoch 3/20\n",
      "1094/1094 [==============================] - ETA: 0s - loss: 0.5752 - accuracy: 0.8833INFO:tensorflow:Assets written to: lstm_model\\assets\n"
     ]
    },
    {
     "name": "stderr",
     "output_type": "stream",
     "text": [
      "INFO:tensorflow:Assets written to: lstm_model\\assets\n"
     ]
    },
    {
     "name": "stdout",
     "output_type": "stream",
     "text": [
      "1094/1094 [==============================] - 247s 225ms/step - loss: 0.5752 - accuracy: 0.8833 - val_loss: 0.2976 - val_accuracy: 0.8845\n",
      "Epoch 4/20\n",
      "1094/1094 [==============================] - ETA: 0s - loss: 0.5312 - accuracy: 0.8925INFO:tensorflow:Assets written to: lstm_model\\assets\n"
     ]
    },
    {
     "name": "stderr",
     "output_type": "stream",
     "text": [
      "INFO:tensorflow:Assets written to: lstm_model\\assets\n"
     ]
    },
    {
     "name": "stdout",
     "output_type": "stream",
     "text": [
      "1094/1094 [==============================] - 257s 235ms/step - loss: 0.5312 - accuracy: 0.8925 - val_loss: 0.2829 - val_accuracy: 0.8847\n",
      "Epoch 5/20\n",
      "1094/1094 [==============================] - ETA: 0s - loss: 0.4997 - accuracy: 0.9005INFO:tensorflow:Assets written to: lstm_model\\assets\n"
     ]
    },
    {
     "name": "stderr",
     "output_type": "stream",
     "text": [
      "INFO:tensorflow:Assets written to: lstm_model\\assets\n"
     ]
    },
    {
     "name": "stdout",
     "output_type": "stream",
     "text": [
      "1094/1094 [==============================] - 253s 231ms/step - loss: 0.4997 - accuracy: 0.9005 - val_loss: 0.2824 - val_accuracy: 0.8855\n",
      "Epoch 6/20\n",
      "1094/1094 [==============================] - 251s 229ms/step - loss: 0.4573 - accuracy: 0.9085 - val_loss: 0.2910 - val_accuracy: 0.8857\n",
      "Epoch 7/20\n",
      "1094/1094 [==============================] - 248s 227ms/step - loss: 0.4203 - accuracy: 0.9181 - val_loss: 0.3072 - val_accuracy: 0.8831\n",
      "Epoch 8/20\n",
      "1094/1094 [==============================] - 235s 215ms/step - loss: 0.3882 - accuracy: 0.9259 - val_loss: 0.3097 - val_accuracy: 0.8806\n",
      "Epoch 9/20\n",
      "1094/1094 [==============================] - 223s 203ms/step - loss: 0.3515 - accuracy: 0.9341 - val_loss: 0.3378 - val_accuracy: 0.8780\n",
      "Epoch 10/20\n",
      "1094/1094 [==============================] - 229s 209ms/step - loss: 0.3293 - accuracy: 0.9387 - val_loss: 0.3493 - val_accuracy: 0.8724\n",
      "Epoch 11/20\n",
      "1094/1094 [==============================] - 214s 196ms/step - loss: 0.3362 - accuracy: 0.9360 - val_loss: 0.3456 - val_accuracy: 0.8737\n",
      "Epoch 12/20\n",
      "1094/1094 [==============================] - 227s 207ms/step - loss: 0.2956 - accuracy: 0.9467 - val_loss: 0.3313 - val_accuracy: 0.8751\n",
      "Epoch 13/20\n",
      "1094/1094 [==============================] - 241s 221ms/step - loss: 0.2947 - accuracy: 0.9459 - val_loss: 0.3459 - val_accuracy: 0.8684\n",
      "Epoch 14/20\n",
      "1094/1094 [==============================] - 239s 219ms/step - loss: 0.2662 - accuracy: 0.9524 - val_loss: 0.4107 - val_accuracy: 0.8769\n",
      "Epoch 15/20\n",
      "1094/1094 [==============================] - 237s 217ms/step - loss: 0.2657 - accuracy: 0.9518 - val_loss: 0.4010 - val_accuracy: 0.8675\n",
      "Epoch 16/20\n",
      "1094/1094 [==============================] - 236s 216ms/step - loss: 0.2742 - accuracy: 0.9493 - val_loss: 0.3917 - val_accuracy: 0.8592\n",
      "Epoch 17/20\n",
      "1094/1094 [==============================] - 274s 250ms/step - loss: 0.2841 - accuracy: 0.9475 - val_loss: 0.3739 - val_accuracy: 0.8722\n",
      "Epoch 18/20\n",
      "1094/1094 [==============================] - 246s 225ms/step - loss: 0.2466 - accuracy: 0.9555 - val_loss: 0.3865 - val_accuracy: 0.8712\n",
      "Epoch 19/20\n",
      "1094/1094 [==============================] - 272s 248ms/step - loss: 0.2651 - accuracy: 0.9517 - val_loss: 0.3896 - val_accuracy: 0.8714\n",
      "Epoch 20/20\n",
      "1094/1094 [==============================] - 264s 241ms/step - loss: 0.2954 - accuracy: 0.9453 - val_loss: 0.3380 - val_accuracy: 0.8692\n"
     ]
    },
    {
     "data": {
      "text/plain": [
       "<keras.src.callbacks.History at 0x1efee5ef250>"
      ]
     },
     "execution_count": 23,
     "metadata": {},
     "output_type": "execute_result"
    }
   ],
   "source": [
    "model.fit(X_train, y_train, validation_data=(X_dev, y_dev), epochs=20, callbacks=[cp], class_weight=weights)"
   ]
  },
  {
   "cell_type": "code",
   "execution_count": 24,
   "metadata": {},
   "outputs": [
    {
     "name": "stderr",
     "output_type": "stream",
     "text": [
      "C:\\Users\\thien\\AppData\\Roaming\\Python\\Python310\\site-packages\\keras\\src\\engine\\training.py:3103: UserWarning: You are saving your model as an HDF5 file via `model.save()`. This file format is considered legacy. We recommend using instead the native Keras format, e.g. `model.save('my_model.keras')`.\n",
      "  saving_api.save_model(\n"
     ]
    }
   ],
   "source": [
    "from keras.models import load_model\n",
    "\n",
    "# Assuming you have trained and saved your model as follows\n",
    "model.save(\"lstm_model/lstm_model.h5\")"
   ]
  },
  {
   "cell_type": "markdown",
   "metadata": {},
   "source": [
    "---\n",
    "\n",
    "## Classification Report\n",
    "\n",
    "---"
   ]
  },
  {
   "cell_type": "code",
   "execution_count": 25,
   "metadata": {},
   "outputs": [
    {
     "name": "stdout",
     "output_type": "stream",
     "text": [
      "WARNING:tensorflow:AutoGraph could not transform <function Model.make_predict_function.<locals>.predict_function at 0x000001EFD86DB760> and will run it as-is.\n",
      "Cause: Unable to locate the source code of <function Model.make_predict_function.<locals>.predict_function at 0x000001EFD86DB760>. Note that functions defined in certain environments, like the interactive Python shell, do not expose their source code. If that is the case, you should define them in a .py source file. If you are certain the code is graph-compatible, wrap the call using @tf.autograph.experimental.do_not_convert. Original error: could not get source code\n",
      "To silence this warning, decorate the function with @tf.autograph.experimental.do_not_convert\n"
     ]
    },
    {
     "name": "stderr",
     "output_type": "stream",
     "text": [
      "WARNING:tensorflow:AutoGraph could not transform <function Model.make_predict_function.<locals>.predict_function at 0x000001EFD86DB760> and will run it as-is.\n",
      "Cause: Unable to locate the source code of <function Model.make_predict_function.<locals>.predict_function at 0x000001EFD86DB760>. Note that functions defined in certain environments, like the interactive Python shell, do not expose their source code. If that is the case, you should define them in a .py source file. If you are certain the code is graph-compatible, wrap the call using @tf.autograph.experimental.do_not_convert. Original error: could not get source code\n",
      "To silence this warning, decorate the function with @tf.autograph.experimental.do_not_convert\n"
     ]
    },
    {
     "name": "stdout",
     "output_type": "stream",
     "text": [
      "WARNING: AutoGraph could not transform <function Model.make_predict_function.<locals>.predict_function at 0x000001EFD86DB760> and will run it as-is.\n",
      "Cause: Unable to locate the source code of <function Model.make_predict_function.<locals>.predict_function at 0x000001EFD86DB760>. Note that functions defined in certain environments, like the interactive Python shell, do not expose their source code. If that is the case, you should define them in a .py source file. If you are certain the code is graph-compatible, wrap the call using @tf.autograph.experimental.do_not_convert. Original error: could not get source code\n",
      "To silence this warning, decorate the function with @tf.autograph.experimental.do_not_convert\n",
      "310/310 [==============================] - 39s 117ms/step\n"
     ]
    }
   ],
   "source": [
    "test_predictions = (model.predict(X_test))"
   ]
  },
  {
   "cell_type": "code",
   "execution_count": 26,
   "metadata": {},
   "outputs": [
    {
     "data": {
      "text/plain": [
       "array([[0.39564788, 0.60374516],\n",
       "       [0.92597413, 0.07366187],\n",
       "       [0.9015161 , 0.09810957],\n",
       "       ...,\n",
       "       [0.07775664, 0.92220825],\n",
       "       [0.22730696, 0.772704  ],\n",
       "       [0.35964784, 0.6415569 ]], dtype=float32)"
      ]
     },
     "execution_count": 26,
     "metadata": {},
     "output_type": "execute_result"
    }
   ],
   "source": [
    "test_predictions"
   ]
  },
  {
   "cell_type": "code",
   "execution_count": 27,
   "metadata": {},
   "outputs": [
    {
     "name": "stdout",
     "output_type": "stream",
     "text": [
      "[1 0 0 ... 1 1 1]\n"
     ]
    }
   ],
   "source": [
    "# Convert one-hot encoded predictions to class labels\n",
    "predicted_labels = np.argmax(test_predictions, axis=1)\n",
    "\n",
    "print(predicted_labels)"
   ]
  },
  {
   "cell_type": "code",
   "execution_count": 28,
   "metadata": {},
   "outputs": [
    {
     "name": "stdout",
     "output_type": "stream",
     "text": [
      "Report: \n",
      "               precision    recall  f1-score   support\n",
      "\n",
      "           0       0.89      0.85      0.87      4923\n",
      "           1       0.86      0.89      0.87      4977\n",
      "\n",
      "    accuracy                           0.87      9900\n",
      "   macro avg       0.87      0.87      0.87      9900\n",
      "weighted avg       0.87      0.87      0.87      9900\n",
      "\n",
      "Confusion Matrix: \n",
      " [[4201  722]\n",
      " [ 545 4432]]\n",
      "Precision:  0.8724716740706212\n",
      "Recall:  0.872020202020202\n",
      "F1-Score:  0.8719667833846361\n",
      "Accuracy:  0.872020202020202\n"
     ]
    }
   ],
   "source": [
    "from sklearn.metrics import classification_report, confusion_matrix, precision_score, recall_score, accuracy_score, f1_score\n",
    "\n",
    "print(\"Report: \\n\",classification_report(y_test,predicted_labels))\n",
    "print(\"Confusion Matrix: \\n\",confusion_matrix(y_test,predicted_labels))\n",
    "print(\"Precision: \",precision_score(y_test,predicted_labels,average=\"weighted\"))\n",
    "print(\"Recall: \",recall_score(y_test,predicted_labels,average=\"weighted\"))\n",
    "print(\"F1-Score: \",f1_score(y_test,predicted_labels,average=\"weighted\"))\n",
    "print(\"Accuracy: \",accuracy_score(y_test,predicted_labels))"
   ]
  },
  {
   "cell_type": "code",
   "execution_count": 29,
   "metadata": {},
   "outputs": [
    {
     "data": {
      "image/png": "[encoded data removed]",
      "text/plain": [
       "<Figure size 1000x700 with 1 Axes>"
      ]
     },
     "metadata": {},
     "output_type": "display_data"
    }
   ],
   "source": [
    "import seaborn as sn\n",
    "import matplotlib.pyplot as plt\n",
    "\n",
    "conf_matrix = confusion_matrix(y_test,predicted_labels)\n",
    "plt.figure(figsize = (10,7))\n",
    "sn.heatmap(conf_matrix, annot=True, fmt=\"d\",cmap=\"viridis\", cbar=False,\n",
    "                 xticklabels=[\"Tiêu cực\", \"Tích cực\"], yticklabels=[\"Tiêu cực\", \"Tích cực\"])\n",
    "plt.show()"
   ]
  },
  {
   "cell_type": "markdown",
   "metadata": {},
   "source": [
    "---\n",
    "\n",
    "## Prediction\n",
    "\n",
    "---"
   ]
  },
  {
   "cell_type": "code",
   "execution_count": 30,
   "metadata": {},
   "outputs": [],
   "source": [
    "desired_sequence_length = 150"
   ]
  },
  {
   "cell_type": "code",
   "execution_count": 31,
   "metadata": {},
   "outputs": [],
   "source": [
    "from keras.models import load_model\n",
    "lstm_model = load_model(\"lstm_model/lstm_model.h5\")"
   ]
  },
  {
   "cell_type": "code",
   "execution_count": 51,
   "metadata": {},
   "outputs": [
    {
     "data": {
      "text/plain": [
       "(1, 150, 120)"
      ]
     },
     "execution_count": 51,
     "metadata": {},
     "output_type": "execute_result"
    }
   ],
   "source": [
    "sentence = \"Film quite normal, but it's good\"\n",
    "def pad_sequence_sentence(sentence):\n",
    "    array = sent2vec(sentence)\n",
    "    arr_seq_len = array.shape[0]\n",
    "    sequence_length_difference = desired_sequence_length - arr_seq_len\n",
    "        \n",
    "    pad = np.zeros(shape=(sequence_length_difference, 120))\n",
    "\n",
    "    array = np.array(np.concatenate([array, pad]))\n",
    "    array = np.expand_dims(array, axis=0)\n",
    "    return array.astype(float)\n",
    "array = pad_sequence_sentence(sentence)\n",
    "array.shape"
   ]
  },
  {
   "cell_type": "code",
   "execution_count": 52,
   "metadata": {},
   "outputs": [
    {
     "name": "stdout",
     "output_type": "stream",
     "text": [
      "1/1 [==============================] - 0s 50ms/step\n",
      "Sentiment:  1\n"
     ]
    }
   ],
   "source": [
    "prediction = np.argmax(lstm_model.predict(array))\n",
    "print(\"Sentiment: \", prediction)"
   ]
  }
 ],
 "metadata": {
  "kernelspec": {
   "display_name": "Python 3",
   "language": "python",
   "name": "python3"
  },
  "language_info": {
   "codemirror_mode": {
    "name": "ipython",
    "version": 3
   },
   "file_extension": ".py",
   "mimetype": "text/x-python",
   "name": "python",
   "nbconvert_exporter": "python",
   "pygments_lexer": "ipython3",
   "version": "3.10.11"
  }
 },
 "nbformat": 4,
 "nbformat_minor": 2
}
